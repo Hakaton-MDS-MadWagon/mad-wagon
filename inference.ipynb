{
 "cells": [
  {
   "cell_type": "code",
   "execution_count": 306,
   "metadata": {},
   "outputs": [],
   "source": [
    "import pandas as pd\n",
    "import numpy as np\n",
    "from pandas_profiling import ProfileReport\n",
    "import datetime\n",
    "from graphviz import Digraph\n",
    "import time\n",
    "from tqdm import tqdm"
   ]
  },
  {
   "cell_type": "code",
   "execution_count": 307,
   "metadata": {},
   "outputs": [],
   "source": [
    "pd.set_option('display.max_columns', None)\n",
    "pd.options.display.float_format = '{:,.2f}'.format"
   ]
  },
  {
   "cell_type": "code",
   "execution_count": 308,
   "metadata": {},
   "outputs": [],
   "source": [
    "df = pd.read_csv('/Users/kost/Desktop/решено/data/statistics-07-20.csv',sep=';')\n",
    "train_ops = pd.read_csv('/Users/kost/Desktop/решено/data/poezd.csv', sep=';', encoding='utf-8')\n",
    "car_ops = pd.read_csv('/Users/kost/Desktop/решено/data/codes.csv',sep=';', encoding='utf-8')"
   ]
  },
  {
   "cell_type": "code",
   "execution_count": 309,
   "metadata": {},
   "outputs": [],
   "source": [
    "ndf = df.sort_values(by=['operation_st_id','car_number','operation_date']).drop_duplicates().reset_index(drop=True)"
   ]
  },
  {
   "cell_type": "markdown",
   "metadata": {},
   "source": [
    "### Первичный анализ датасета"
   ]
  },
  {
   "cell_type": "code",
   "execution_count": 310,
   "metadata": {
    "scrolled": true
   },
   "outputs": [
    {
     "name": "stdout",
     "output_type": "stream",
     "text": [
      " index_code mnem_code                                                         description\n",
      "          2        От Отпр. поезда со станции (без сдачи на дорогу,отделение,участок ДНЦ)\n",
      " index_code mnem_code                            description\n",
      "          2      ОТПР ОТПРАВЛЕНИЕ ВАГОНА СО СТАНЦИИ         \n"
     ]
    }
   ],
   "source": [
    "operation_code = 2\n",
    "print(train_ops[train_ops.index_code == operation_code].to_string(index=False))\n",
    "print(car_ops[car_ops.index_code == operation_code].to_string(index=False))"
   ]
  },
  {
   "cell_type": "code",
   "execution_count": 311,
   "metadata": {},
   "outputs": [
    {
     "data": {
      "text/plain": [
       "2,000,038,976.00    207099\n",
       "2,000,038,600.00    146427\n",
       "2,000,037,862.00    116936\n",
       "2,001,933,494.00     96307\n",
       "2,001,930,816.00     82794\n",
       "                     ...  \n",
       "2,000,037,640.00         1\n",
       "2,000,036,452.00         1\n",
       "2,000,036,458.00         1\n",
       "2,000,035,312.00         1\n",
       "2,000,036,334.00         1\n",
       "Name: operation_st_id, Length: 744, dtype: int64"
      ]
     },
     "execution_count": 311,
     "metadata": {},
     "output_type": "execute_result"
    }
   ],
   "source": [
    "# уникальные станции по операциям\n",
    "df.operation_st_id.value_counts()"
   ]
  },
  {
   "cell_type": "code",
   "execution_count": 312,
   "metadata": {},
   "outputs": [
    {
     "data": {
      "text/plain": [
       "55864821    310\n",
       "55822928    290\n",
       "55927537    287\n",
       "55626428    273\n",
       "55701130    272\n",
       "           ... \n",
       "60175320      1\n",
       "95378899      1\n",
       "29064912      1\n",
       "57448243      1\n",
       "60025954      1\n",
       "Name: car_number, Length: 441248, dtype: int64"
      ]
     },
     "execution_count": 312,
     "metadata": {},
     "output_type": "execute_result"
    }
   ],
   "source": [
    "# уникальные вагоны по операциям\n",
    "df.car_number.value_counts()"
   ]
  },
  {
   "cell_type": "markdown",
   "metadata": {
    "scrolled": false
   },
   "source": [
    "### Избавляемся от пропусков в operation_car"
   ]
  },
  {
   "cell_type": "code",
   "execution_count": 313,
   "metadata": {
    "scrolled": true
   },
   "outputs": [
    {
     "name": "stdout",
     "output_type": "stream",
     "text": [
      "2.0 ['Отпр. поезда со станции (без сдачи на дорогу,отделение,участок ДНЦ)']\n",
      "62.0 ['Отпр. поезда со станции со сдачей на соседний участок']\n",
      "22.0 ['Отпр. поезда co станции со сдачей на другую дорогу']\n",
      "42.0 ['Отпр. поезда со станции со сдачей на соседнее отделение']\n"
     ]
    }
   ],
   "source": [
    "for i in ndf.operation_train[ndf.operation_car.isna()].value_counts().index:\n",
    "    print(i,train_ops.description[train_ops.index_code == i].values)"
   ]
  },
  {
   "cell_type": "code",
   "execution_count": 314,
   "metadata": {},
   "outputs": [],
   "source": [
    "# все пропуски можно заменить операцией отправления\n",
    "ndf.operation_car = ndf.operation_car.fillna(2)"
   ]
  },
  {
   "cell_type": "markdown",
   "metadata": {},
   "source": [
    "### Избавляемся от пропусков в danger"
   ]
  },
  {
   "cell_type": "code",
   "execution_count": 315,
   "metadata": {},
   "outputs": [],
   "source": [
    "ndf.danger = ndf.danger.fillna(0)"
   ]
  },
  {
   "cell_type": "markdown",
   "metadata": {},
   "source": [
    "### Отрисовка графов последовательностей операций"
   ]
  },
  {
   "cell_type": "code",
   "execution_count": 316,
   "metadata": {
    "scrolled": true
   },
   "outputs": [],
   "source": [
    "def ops_tr_for_set_of_carts(cartsSet: set) -> pd.DataFrame:\n",
    "    \"\"\"\n",
    "    Builds DF with historical data of changes in states from one operation to another for a set of carts IDs.\n",
    "    :param cartsSet: set with carts numbers from nom_vag_op\n",
    "    :return: dataframe with following format (note that state changes are not unique)\n",
    "        from \tto\n",
    "    0 \t3 \t    4\n",
    "    1 \t4 \t    3\n",
    "    2 \t3 \t    4\n",
    "    3 \t4 \t    3\n",
    "    ...\n",
    "    \"\"\"\n",
    "    stateChangeDF = pd.DataFrame(columns=['from', 'to'])\n",
    "    iter = 0\n",
    "    for cartID in tqdm(cartsSet):\n",
    "        iter += 1\n",
    "        opsListCart = list(ndf.operation_car[ndf.car_number == cartID])\n",
    "        state_change = pd.DataFrame({'from': opsListCart[:-1], 'to': opsListCart[1:]})\n",
    "        stateChangeDF = pd.concat(\n",
    "            [stateChangeDF, state_change],\n",
    "            axis=0,\n",
    "            join=\"outer\",\n",
    "            ignore_index=True,\n",
    "            keys=None,\n",
    "            levels=None,\n",
    "            names=None,\n",
    "            verify_integrity=False,\n",
    "            copy=True,\n",
    "        )\n",
    "    return stateChangeDF\n",
    "\n",
    "\n",
    "def count_ops_transitions(cartsSet: set) -> dict:\n",
    "    \"\"\"\n",
    "    Builds a dict with unique operation changes and state change frequency.\n",
    "    :param cartsSet: set with carts numbers from nom_vag_op\n",
    "    :return: dict with unique operations and their quantity. See example below:\n",
    "    {'3->4': 2, '4->3': 2, '3->2': 1, '2->80': 1}\n",
    "    \"\"\"\n",
    "    sChangeList = []\n",
    "    linksDict: dict = {}\n",
    "    sChangeDF = ops_tr_for_set_of_carts(cartsSet)\n",
    "    for i in range(sChangeDF.shape[0]):\n",
    "        src = str(list(sChangeDF.loc[i])[0])\n",
    "        trg = str(list(sChangeDF.loc[i])[1])\n",
    "        sChangeList.append(src + \"->\" + trg)\n",
    "    for entry in sChangeList:\n",
    "        key = str(entry)\n",
    "        if key in linksDict.keys():\n",
    "            linksDict[key] += 1\n",
    "        else:\n",
    "            linksDict[key] = 1\n",
    "    return linksDict"
   ]
  },
  {
   "cell_type": "code",
   "execution_count": 317,
   "metadata": {},
   "outputs": [],
   "source": [
    "# cars\n",
    "# carSet = {37843901}\n",
    "# carSet = {94033792}\n",
    "\n",
    "# stations\n",
    "# option A - \n",
    "# carSet = set(ndf.car_number[ndf.operation_st_id == 2000038976])\n",
    "\n",
    "# option B - dropp all ops chains with less then 3\n",
    "st = ndf.car_number[ndf.operation_st_id == 2000038976].value_counts()\n",
    "carSet = set(st[st > 2].index)"
   ]
  },
  {
   "cell_type": "code",
   "execution_count": 318,
   "metadata": {},
   "outputs": [
    {
     "name": "stderr",
     "output_type": "stream",
     "text": [
      "100%|██████████| 38496/38496 [04:11<00:00, 153.00it/s]\n"
     ]
    },
    {
     "data": {
      "text/plain": [
       "'ops_fsm_rzd.pdf'"
      ]
     },
     "execution_count": 318,
     "metadata": {},
     "output_type": "execute_result"
    }
   ],
   "source": [
    "sdict = count_ops_transitions(carSet)\n",
    "\n",
    "DG = Digraph('finite_state_machine', filename='ops_fsm_rzd')\n",
    "DG.attr(rankdir='LR', size='8,5')\n",
    "\n",
    "for key in sdict:\n",
    "    src = car_ops[car_ops.index_code == float(key.split('->')[0])].values[0][1]\n",
    "    dst = car_ops[car_ops.index_code == float(key.split('->')[1])].values[0][1]\n",
    "    DG.edge(src, dst, weight=str(sdict[key]), label=str(sdict[key]))\n",
    "\n",
    "DG.view()"
   ]
  },
  {
   "cell_type": "markdown",
   "metadata": {},
   "source": [
    "### Профайлер"
   ]
  },
  {
   "cell_type": "code",
   "execution_count": null,
   "metadata": {
    "scrolled": true
   },
   "outputs": [],
   "source": [
    "## profiler code\n",
    "dt = datetime.datetime.now().strftime(\"%m/%d/%y - %H:%M\")\n",
    "profile = ProfileReport(ndf, title=dt, explorative=True)\n",
    "fname = 'pd-report.html'\n",
    "profile.to_file(output_file=fname)"
   ]
  },
  {
   "cell_type": "markdown",
   "metadata": {},
   "source": [
    "### ================="
   ]
  },
  {
   "cell_type": "code",
   "execution_count": 319,
   "metadata": {},
   "outputs": [
    {
     "data": {
      "text/html": [
       "<div>\n",
       "<style scoped>\n",
       "    .dataframe tbody tr th:only-of-type {\n",
       "        vertical-align: middle;\n",
       "    }\n",
       "\n",
       "    .dataframe tbody tr th {\n",
       "        vertical-align: top;\n",
       "    }\n",
       "\n",
       "    .dataframe thead th {\n",
       "        text-align: right;\n",
       "    }\n",
       "</style>\n",
       "<table border=\"1\" class=\"dataframe\">\n",
       "  <thead>\n",
       "    <tr style=\"text-align: right;\">\n",
       "      <th></th>\n",
       "      <th>index_train</th>\n",
       "      <th>length</th>\n",
       "      <th>car_number</th>\n",
       "      <th>destination_esr</th>\n",
       "      <th>adm</th>\n",
       "      <th>danger</th>\n",
       "      <th>gruz</th>\n",
       "      <th>loaded</th>\n",
       "      <th>operation_car</th>\n",
       "      <th>operation_date</th>\n",
       "      <th>operation_st_esr</th>\n",
       "      <th>operation_st_id</th>\n",
       "      <th>operation_train</th>\n",
       "      <th>receiver</th>\n",
       "      <th>rodvag</th>\n",
       "      <th>rod_train</th>\n",
       "      <th>sender</th>\n",
       "      <th>ssp_station_esr</th>\n",
       "      <th>ssp_station_id</th>\n",
       "      <th>tare_weight</th>\n",
       "      <th>weight_brutto</th>\n",
       "    </tr>\n",
       "  </thead>\n",
       "  <tbody>\n",
       "    <tr>\n",
       "      <th>0</th>\n",
       "      <td>880,106,902,880,202.00</td>\n",
       "      <td>NaN</td>\n",
       "      <td>30891014</td>\n",
       "      <td>880,303.00</td>\n",
       "      <td>NaN</td>\n",
       "      <td>0.00</td>\n",
       "      <td>NaN</td>\n",
       "      <td>2.00</td>\n",
       "      <td>3.00</td>\n",
       "      <td>2020-07-22 13:00:00</td>\n",
       "      <td>880,303.00</td>\n",
       "      <td>2,000,035,070.00</td>\n",
       "      <td>4.00</td>\n",
       "      <td>NaN</td>\n",
       "      <td>90.00</td>\n",
       "      <td>83.00</td>\n",
       "      <td>NaN</td>\n",
       "      <td>880,202.00</td>\n",
       "      <td>NaN</td>\n",
       "      <td>NaN</td>\n",
       "      <td>47.00</td>\n",
       "    </tr>\n",
       "    <tr>\n",
       "      <th>1</th>\n",
       "      <td>880,106,902,880,202.00</td>\n",
       "      <td>NaN</td>\n",
       "      <td>30893911</td>\n",
       "      <td>880,303.00</td>\n",
       "      <td>NaN</td>\n",
       "      <td>0.00</td>\n",
       "      <td>NaN</td>\n",
       "      <td>2.00</td>\n",
       "      <td>3.00</td>\n",
       "      <td>2020-07-22 13:00:00</td>\n",
       "      <td>880,303.00</td>\n",
       "      <td>2,000,035,070.00</td>\n",
       "      <td>4.00</td>\n",
       "      <td>NaN</td>\n",
       "      <td>90.00</td>\n",
       "      <td>83.00</td>\n",
       "      <td>NaN</td>\n",
       "      <td>880,202.00</td>\n",
       "      <td>NaN</td>\n",
       "      <td>NaN</td>\n",
       "      <td>47.00</td>\n",
       "    </tr>\n",
       "    <tr>\n",
       "      <th>2</th>\n",
       "      <td>NaN</td>\n",
       "      <td>1.38</td>\n",
       "      <td>29068855</td>\n",
       "      <td>893,500.00</td>\n",
       "      <td>20.00</td>\n",
       "      <td>0.00</td>\n",
       "      <td>421,034.00</td>\n",
       "      <td>NaN</td>\n",
       "      <td>18.00</td>\n",
       "      <td>2020-07-22 13:37:00</td>\n",
       "      <td>880,407.00</td>\n",
       "      <td>2,000,035,090.00</td>\n",
       "      <td>NaN</td>\n",
       "      <td>91,860,990.00</td>\n",
       "      <td>20.00</td>\n",
       "      <td>NaN</td>\n",
       "      <td>33,977,721.00</td>\n",
       "      <td>NaN</td>\n",
       "      <td>NaN</td>\n",
       "      <td>269.00</td>\n",
       "      <td>NaN</td>\n",
       "    </tr>\n",
       "    <tr>\n",
       "      <th>3</th>\n",
       "      <td>880,407,949,880,106.00</td>\n",
       "      <td>1.38</td>\n",
       "      <td>29068855</td>\n",
       "      <td>893,500.00</td>\n",
       "      <td>NaN</td>\n",
       "      <td>0.00</td>\n",
       "      <td>521,016.00</td>\n",
       "      <td>2.00</td>\n",
       "      <td>4.00</td>\n",
       "      <td>2020-07-22 22:30:00</td>\n",
       "      <td>880,407.00</td>\n",
       "      <td>2,000,035,090.00</td>\n",
       "      <td>5.00</td>\n",
       "      <td>91,860,990.00</td>\n",
       "      <td>20.00</td>\n",
       "      <td>72.00</td>\n",
       "      <td>33,977,721.00</td>\n",
       "      <td>880,106.00</td>\n",
       "      <td>2,000,035,130.00</td>\n",
       "      <td>NaN</td>\n",
       "      <td>240.00</td>\n",
       "    </tr>\n",
       "    <tr>\n",
       "      <th>4</th>\n",
       "      <td>880,407,949,880,106.00</td>\n",
       "      <td>1.38</td>\n",
       "      <td>29068855</td>\n",
       "      <td>893,500.00</td>\n",
       "      <td>NaN</td>\n",
       "      <td>0.00</td>\n",
       "      <td>521,016.00</td>\n",
       "      <td>NaN</td>\n",
       "      <td>2.00</td>\n",
       "      <td>2020-07-23 00:03:00</td>\n",
       "      <td>880,407.00</td>\n",
       "      <td>2,000,035,090.00</td>\n",
       "      <td>2.00</td>\n",
       "      <td>91,860,990.00</td>\n",
       "      <td>20.00</td>\n",
       "      <td>72.00</td>\n",
       "      <td>33,977,721.00</td>\n",
       "      <td>880,106.00</td>\n",
       "      <td>2,000,035,130.00</td>\n",
       "      <td>NaN</td>\n",
       "      <td>240.00</td>\n",
       "    </tr>\n",
       "    <tr>\n",
       "      <th>...</th>\n",
       "      <td>...</td>\n",
       "      <td>...</td>\n",
       "      <td>...</td>\n",
       "      <td>...</td>\n",
       "      <td>...</td>\n",
       "      <td>...</td>\n",
       "      <td>...</td>\n",
       "      <td>...</td>\n",
       "      <td>...</td>\n",
       "      <td>...</td>\n",
       "      <td>...</td>\n",
       "      <td>...</td>\n",
       "      <td>...</td>\n",
       "      <td>...</td>\n",
       "      <td>...</td>\n",
       "      <td>...</td>\n",
       "      <td>...</td>\n",
       "      <td>...</td>\n",
       "      <td>...</td>\n",
       "      <td>...</td>\n",
       "      <td>...</td>\n",
       "    </tr>\n",
       "    <tr>\n",
       "      <th>4188133</th>\n",
       "      <td>NaN</td>\n",
       "      <td>NaN</td>\n",
       "      <td>64437627</td>\n",
       "      <td>917,207.00</td>\n",
       "      <td>NaN</td>\n",
       "      <td>0.00</td>\n",
       "      <td>NaN</td>\n",
       "      <td>2.00</td>\n",
       "      <td>79.00</td>\n",
       "      <td>2020-07-26 22:10:00</td>\n",
       "      <td>NaN</td>\n",
       "      <td>NaN</td>\n",
       "      <td>NaN</td>\n",
       "      <td>NaN</td>\n",
       "      <td>NaN</td>\n",
       "      <td>NaN</td>\n",
       "      <td>NaN</td>\n",
       "      <td>NaN</td>\n",
       "      <td>NaN</td>\n",
       "      <td>NaN</td>\n",
       "      <td>NaN</td>\n",
       "    </tr>\n",
       "    <tr>\n",
       "      <th>4188134</th>\n",
       "      <td>969,004,044,968,209.00</td>\n",
       "      <td>1.00</td>\n",
       "      <td>64437627</td>\n",
       "      <td>917,207.00</td>\n",
       "      <td>NaN</td>\n",
       "      <td>0.00</td>\n",
       "      <td>161,113.00</td>\n",
       "      <td>2.00</td>\n",
       "      <td>4.00</td>\n",
       "      <td>2020-07-26 23:43:00</td>\n",
       "      <td>NaN</td>\n",
       "      <td>NaN</td>\n",
       "      <td>5.00</td>\n",
       "      <td>161,246.00</td>\n",
       "      <td>60.00</td>\n",
       "      <td>NaN</td>\n",
       "      <td>52,682,351.00</td>\n",
       "      <td>968,209.00</td>\n",
       "      <td>2,000,038,610.00</td>\n",
       "      <td>NaN</td>\n",
       "      <td>NaN</td>\n",
       "    </tr>\n",
       "    <tr>\n",
       "      <th>4188135</th>\n",
       "      <td>969,004,044,968,209.00</td>\n",
       "      <td>1.00</td>\n",
       "      <td>64437627</td>\n",
       "      <td>917,207.00</td>\n",
       "      <td>NaN</td>\n",
       "      <td>0.00</td>\n",
       "      <td>161,113.00</td>\n",
       "      <td>NaN</td>\n",
       "      <td>2.00</td>\n",
       "      <td>2020-07-27 00:36:00</td>\n",
       "      <td>NaN</td>\n",
       "      <td>NaN</td>\n",
       "      <td>2.00</td>\n",
       "      <td>161,246.00</td>\n",
       "      <td>60.00</td>\n",
       "      <td>52.00</td>\n",
       "      <td>52,682,351.00</td>\n",
       "      <td>968,209.00</td>\n",
       "      <td>2,000,038,610.00</td>\n",
       "      <td>NaN</td>\n",
       "      <td>1,036.00</td>\n",
       "    </tr>\n",
       "    <tr>\n",
       "      <th>4188136</th>\n",
       "      <td>NaN</td>\n",
       "      <td>1.00</td>\n",
       "      <td>65635427</td>\n",
       "      <td>693,903.00</td>\n",
       "      <td>20.00</td>\n",
       "      <td>0.00</td>\n",
       "      <td>351,043.00</td>\n",
       "      <td>NaN</td>\n",
       "      <td>13.00</td>\n",
       "      <td>2020-07-30 16:30:00</td>\n",
       "      <td>NaN</td>\n",
       "      <td>NaN</td>\n",
       "      <td>NaN</td>\n",
       "      <td>0.00</td>\n",
       "      <td>60.00</td>\n",
       "      <td>NaN</td>\n",
       "      <td>1,373,772.00</td>\n",
       "      <td>NaN</td>\n",
       "      <td>NaN</td>\n",
       "      <td>244.00</td>\n",
       "      <td>NaN</td>\n",
       "    </tr>\n",
       "    <tr>\n",
       "      <th>4188137</th>\n",
       "      <td>NaN</td>\n",
       "      <td>1.00</td>\n",
       "      <td>67828319</td>\n",
       "      <td>863,806.00</td>\n",
       "      <td>20.00</td>\n",
       "      <td>0.00</td>\n",
       "      <td>421,034.00</td>\n",
       "      <td>NaN</td>\n",
       "      <td>19.00</td>\n",
       "      <td>2020-07-06 04:41:00</td>\n",
       "      <td>NaN</td>\n",
       "      <td>NaN</td>\n",
       "      <td>NaN</td>\n",
       "      <td>10,901,721.00</td>\n",
       "      <td>60.00</td>\n",
       "      <td>NaN</td>\n",
       "      <td>94,490,192.00</td>\n",
       "      <td>NaN</td>\n",
       "      <td>NaN</td>\n",
       "      <td>230.00</td>\n",
       "      <td>NaN</td>\n",
       "    </tr>\n",
       "  </tbody>\n",
       "</table>\n",
       "<p>4188138 rows × 21 columns</p>\n",
       "</div>"
      ],
      "text/plain": [
       "                   index_train  length  car_number  destination_esr   adm  \\\n",
       "0       880,106,902,880,202.00     NaN    30891014       880,303.00   NaN   \n",
       "1       880,106,902,880,202.00     NaN    30893911       880,303.00   NaN   \n",
       "2                          NaN    1.38    29068855       893,500.00 20.00   \n",
       "3       880,407,949,880,106.00    1.38    29068855       893,500.00   NaN   \n",
       "4       880,407,949,880,106.00    1.38    29068855       893,500.00   NaN   \n",
       "...                        ...     ...         ...              ...   ...   \n",
       "4188133                    NaN     NaN    64437627       917,207.00   NaN   \n",
       "4188134 969,004,044,968,209.00    1.00    64437627       917,207.00   NaN   \n",
       "4188135 969,004,044,968,209.00    1.00    64437627       917,207.00   NaN   \n",
       "4188136                    NaN    1.00    65635427       693,903.00 20.00   \n",
       "4188137                    NaN    1.00    67828319       863,806.00 20.00   \n",
       "\n",
       "         danger       gruz  loaded  operation_car       operation_date  \\\n",
       "0          0.00        NaN    2.00           3.00  2020-07-22 13:00:00   \n",
       "1          0.00        NaN    2.00           3.00  2020-07-22 13:00:00   \n",
       "2          0.00 421,034.00     NaN          18.00  2020-07-22 13:37:00   \n",
       "3          0.00 521,016.00    2.00           4.00  2020-07-22 22:30:00   \n",
       "4          0.00 521,016.00     NaN           2.00  2020-07-23 00:03:00   \n",
       "...         ...        ...     ...            ...                  ...   \n",
       "4188133    0.00        NaN    2.00          79.00  2020-07-26 22:10:00   \n",
       "4188134    0.00 161,113.00    2.00           4.00  2020-07-26 23:43:00   \n",
       "4188135    0.00 161,113.00     NaN           2.00  2020-07-27 00:36:00   \n",
       "4188136    0.00 351,043.00     NaN          13.00  2020-07-30 16:30:00   \n",
       "4188137    0.00 421,034.00     NaN          19.00  2020-07-06 04:41:00   \n",
       "\n",
       "         operation_st_esr  operation_st_id  operation_train      receiver  \\\n",
       "0              880,303.00 2,000,035,070.00             4.00           NaN   \n",
       "1              880,303.00 2,000,035,070.00             4.00           NaN   \n",
       "2              880,407.00 2,000,035,090.00              NaN 91,860,990.00   \n",
       "3              880,407.00 2,000,035,090.00             5.00 91,860,990.00   \n",
       "4              880,407.00 2,000,035,090.00             2.00 91,860,990.00   \n",
       "...                   ...              ...              ...           ...   \n",
       "4188133               NaN              NaN              NaN           NaN   \n",
       "4188134               NaN              NaN             5.00    161,246.00   \n",
       "4188135               NaN              NaN             2.00    161,246.00   \n",
       "4188136               NaN              NaN              NaN          0.00   \n",
       "4188137               NaN              NaN              NaN 10,901,721.00   \n",
       "\n",
       "         rodvag  rod_train        sender  ssp_station_esr   ssp_station_id  \\\n",
       "0         90.00      83.00           NaN       880,202.00              NaN   \n",
       "1         90.00      83.00           NaN       880,202.00              NaN   \n",
       "2         20.00        NaN 33,977,721.00              NaN              NaN   \n",
       "3         20.00      72.00 33,977,721.00       880,106.00 2,000,035,130.00   \n",
       "4         20.00      72.00 33,977,721.00       880,106.00 2,000,035,130.00   \n",
       "...         ...        ...           ...              ...              ...   \n",
       "4188133     NaN        NaN           NaN              NaN              NaN   \n",
       "4188134   60.00        NaN 52,682,351.00       968,209.00 2,000,038,610.00   \n",
       "4188135   60.00      52.00 52,682,351.00       968,209.00 2,000,038,610.00   \n",
       "4188136   60.00        NaN  1,373,772.00              NaN              NaN   \n",
       "4188137   60.00        NaN 94,490,192.00              NaN              NaN   \n",
       "\n",
       "         tare_weight  weight_brutto  \n",
       "0                NaN          47.00  \n",
       "1                NaN          47.00  \n",
       "2             269.00            NaN  \n",
       "3                NaN         240.00  \n",
       "4                NaN         240.00  \n",
       "...              ...            ...  \n",
       "4188133          NaN            NaN  \n",
       "4188134          NaN            NaN  \n",
       "4188135          NaN       1,036.00  \n",
       "4188136       244.00            NaN  \n",
       "4188137       230.00            NaN  \n",
       "\n",
       "[4188138 rows x 21 columns]"
      ]
     },
     "execution_count": 319,
     "metadata": {},
     "output_type": "execute_result"
    }
   ],
   "source": [
    "ndf"
   ]
  }
 ],
 "metadata": {
  "kernelspec": {
   "display_name": "Python 3",
   "language": "python",
   "name": "python3"
  },
  "language_info": {
   "codemirror_mode": {
    "name": "ipython",
    "version": 3
   },
   "file_extension": ".py",
   "mimetype": "text/x-python",
   "name": "python",
   "nbconvert_exporter": "python",
   "pygments_lexer": "ipython3",
   "version": "3.9.0"
  }
 },
 "nbformat": 4,
 "nbformat_minor": 4
}
