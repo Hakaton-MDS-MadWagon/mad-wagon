{
 "cells": [
  {
   "cell_type": "code",
   "execution_count": 107,
   "metadata": {},
   "outputs": [],
   "source": [
    "import pandas as pd\n",
    "import numpy as np\n",
    "from pandas_profiling import ProfileReport\n",
    "import datetime\n",
    "from graphviz import Digraph\n",
    "import time\n",
    "from tqdm import tqdm\n",
    "from sklearn.model_selection import TimeSeriesSplit\n",
    "from matplotlib import pyplot as plt\n",
    "import seaborn as sns\n",
    "import warnings"
   ]
  },
  {
   "cell_type": "code",
   "execution_count": 230,
   "metadata": {},
   "outputs": [],
   "source": [
    "sns.set(rc={'figure.figsize':(12.7,10.27)})"
   ]
  },
  {
   "cell_type": "code",
   "execution_count": 136,
   "metadata": {},
   "outputs": [],
   "source": [
    "pd.set_option('display.max_columns', None)\n",
    "pd.options.display.float_format = '{:,.2f}'.format"
   ]
  },
  {
   "cell_type": "code",
   "execution_count": 783,
   "metadata": {},
   "outputs": [],
   "source": [
    "# Загрузка данных\n",
    "df = pd.read_csv('/Users/kost/Desktop/решено/data/statistics-07-20.csv',sep=';',parse_dates=['operation_date'])\n",
    "train_ops = pd.read_csv('/Users/kost/Desktop/решено/data/poezd.csv', sep=';', encoding='utf-8')\n",
    "car_ops = pd.read_csv('/Users/kost/Desktop/решено/data/codes.csv',sep=';', encoding='utf-8')"
   ]
  },
  {
   "cell_type": "code",
   "execution_count": 784,
   "metadata": {},
   "outputs": [],
   "source": [
    "# Датасет отсортированный по станции > номеру вагона > времени операции\n",
    "ndf = df.sort_values(by=['operation_st_id','car_number','operation_date']).drop_duplicates().reset_index(drop=True)"
   ]
  },
  {
   "cell_type": "markdown",
   "metadata": {},
   "source": [
    "### Переменные:"
   ]
  },
  {
   "cell_type": "code",
   "execution_count": 817,
   "metadata": {},
   "outputs": [
    {
     "name": "stdout",
     "output_type": "stream",
     "text": [
      "Для станции 2000039118 есть 10 строк(а) по вагону 37695855\n"
     ]
    }
   ],
   "source": [
    "\"\"\"\n",
    "Примеры номеров станций для анализа\n",
    "\"\"\"\n",
    "# st_id = 2000035744 # 100 ops, 4 cars\n",
    "# st_id = 2002023503 # 90 ops, 28 cars\n",
    "# st_id = 2000038836 # 50 ops, 10 cars\n",
    "st_id = 2000039118 # 54 ops, 9 cars\n",
    "# st_id = 2002023867 # 515 ops, 74 cars\n",
    "# st_id = 2000038976 # 207037 ops, 43702 cars\n",
    "# st_id = 2001930816 # 82587 ops, 13178 cars\n",
    "# st_id = 2000036868 # 37386 ops, 3801 cars\n",
    "# st_id = 2000036888 # 18489 ops, 363 cars\n",
    "\n",
    "# проверка соответствия st_id и car_num\n",
    "if ndf.operation_st_id[ndf.car_number == car_num][ndf.operation_st_id == st_id].shape[0] == 0:\n",
    "    print(f'Для станции {st_id} нет записей с вагоном {car_num}')\n",
    "    print(f'Топ 10 вагонов по количеству записей для станции:\\n')\n",
    "    print(\n",
    "        pd.DataFrame(\n",
    "            {'Вагон': ndf.car_number[ndf.operation_st_id == st_id].value_counts().index[:10],\n",
    "             'Строк': ndf.car_number[ndf.operation_st_id == st_id].value_counts().values[:10]}\n",
    "        )\n",
    "    )\n",
    "    \n",
    "else:\n",
    "    print(\n",
    "        f'Для станции {st_id} есть \\\n",
    "{ndf.operation_st_id[ndf.car_number == car_num][ndf.operation_st_id == st_id].shape[0]}\\\n",
    " строк(а) по вагону {car_num}'\n",
    "    )"
   ]
  },
  {
   "cell_type": "code",
   "execution_count": 816,
   "metadata": {},
   "outputs": [
    {
     "name": "stdout",
     "output_type": "stream",
     "text": [
      "Для станции 2000039118 есть 10 строк(а) с вагоном 37695855\n"
     ]
    }
   ],
   "source": [
    "\"\"\"\n",
    "Примеры номеров вагонов для анализа\n",
    "\"\"\"\n",
    "# car_num = 55864821 # вагон с максимальным количеством операций 310\n",
    "\n",
    "# car_num = 94033792\n",
    "# car_num = 62324355\n",
    "# car_num = 37843901\n",
    "# car_num = 61810677\n",
    "# car_num = 37812401\n",
    "car_num = 37695855\n",
    "\n",
    "# проверка соответствия st_id и car_num\n",
    "if ndf.operation_st_id[ndf.car_number == car_num][ndf.operation_st_id == st_id].shape[0] == 0:\n",
    "    print(f'По вагону {car_num} нет записей на станции {st_id}')\n",
    "    print(f'С этим вагоном есть записи на следующих станциях:\\n')\n",
    "    print(\n",
    "        pd.DataFrame(\n",
    "            {'Станция': ndf.operation_st_id[ndf.car_number == car_num].value_counts().index,\n",
    "             'Строк': ndf.operation_st_id[ndf.car_number == car_num].value_counts().values}\n",
    "        )\n",
    "    )\n",
    "else:\n",
    "    print(\n",
    "        f'Для станции {st_id} есть\\\n",
    " {ndf.operation_st_id[ndf.car_number == car_num][ndf.operation_st_id == st_id].shape[0]} строк(а)\\\n",
    " с вагоном {car_num}'\n",
    "    )"
   ]
  },
  {
   "cell_type": "code",
   "execution_count": 818,
   "metadata": {},
   "outputs": [],
   "source": [
    "\"\"\"\n",
    "Примеры наборов номеров вагонов для анализа. \n",
    "\"\"\"\n",
    "\n",
    "# анализ по одному вагону\n",
    "carSet = {car_num}\n",
    "\n",
    "# aнализ по набору вагонов\n",
    "\n",
    "# анализ по станциям stations\n",
    "# option A - Показать все цепочки операций по станции\n",
    "# carSet = set(ndf.car_number[ndf.operation_st_id == 2000038976])\n",
    "\n",
    "# option B - выбрать только цепочки длиннее заданного числа\n",
    "# st = ndf.car_number[ndf.operation_st_id == 2001930816].value_counts()\n",
    "# carSet = set(st[st > 2].index)"
   ]
  },
  {
   "cell_type": "markdown",
   "metadata": {},
   "source": [
    "### Первичный анализ датасета"
   ]
  },
  {
   "cell_type": "code",
   "execution_count": 197,
   "metadata": {
    "scrolled": true
   },
   "outputs": [
    {
     "name": "stdout",
     "output_type": "stream",
     "text": [
      "Временной диапазон датафрейма:\n",
      "min: 2020-07-01 00:00:00\n",
      "max: 2020-07-31 23:59:00\n"
     ]
    }
   ],
   "source": [
    "print(f'Временной диапазон датафрейма:\\nmin: {ndf.operation_date.min()}\\nmax: {ndf.operation_date.max()}')"
   ]
  },
  {
   "cell_type": "code",
   "execution_count": 467,
   "metadata": {},
   "outputs": [
    {
     "name": "stdout",
     "output_type": "stream",
     "text": [
      "Размерность датасета: (4188138, 21)\n"
     ]
    }
   ],
   "source": [
    "print(f'Размерность датасета: {ndf.shape}')"
   ]
  },
  {
   "cell_type": "code",
   "execution_count": 466,
   "metadata": {},
   "outputs": [
    {
     "name": "stdout",
     "output_type": "stream",
     "text": [
      "Уникальных станций в датасете: 744\n"
     ]
    }
   ],
   "source": [
    "print(f'Уникальных станций в датасете: {ndf.operation_st_id.nunique()}')"
   ]
  },
  {
   "cell_type": "code",
   "execution_count": 468,
   "metadata": {},
   "outputs": [
    {
     "name": "stdout",
     "output_type": "stream",
     "text": [
      "Уникальных вагонов в датасете: 441248\n"
     ]
    }
   ],
   "source": [
    "print(f'Уникальных вагонов в датасете: {ndf.car_number.nunique()}')"
   ]
  },
  {
   "cell_type": "code",
   "execution_count": 469,
   "metadata": {
    "scrolled": true
   },
   "outputs": [
    {
     "name": "stdout",
     "output_type": "stream",
     "text": [
      "Уникальных операций с поездами в датасете:\n",
      "5.0 ['Окончание формирования поезда']\n",
      "4.0 ['Расформирование поезда']\n",
      "2.0 ['Отпр. поезда со станции (без сдачи на дорогу,отделение,участок ДНЦ)']\n",
      "72.0 ['Отцепка вагонов']\n",
      "62.0 ['Отпр. поезда со станции со сдачей на соседний участок']\n",
      "71.0 ['Прицепка вагонов']\n",
      "22.0 ['Отпр. поезда co станции со сдачей на другую дорогу']\n",
      "44.0 ['Подача маршрута под грузовые операции']\n",
      "42.0 ['Отпр. поезда со станции со сдачей на соседнее отделение']\n",
      "30.0 ['Отпр. (просл.) поезда со станции \"чужой\" дороги в направл. \"нашей\" дороги']\n",
      "64.0 ['Приб. пассажирского поезда на станцию назначения']\n",
      "54.0 ['Прекращение \"жизни\" поезда 3-й категории']\n",
      "35.0 ['Образование соединенного поезда']\n"
     ]
    }
   ],
   "source": [
    "print('Уникальных операций с поездами в датасете:')\n",
    "for i in ndf.operation_train[ndf.operation_train.notnull()].value_counts().index:\n",
    "    print(i,train_ops.description[train_ops.index_code == i].values)"
   ]
  },
  {
   "cell_type": "code",
   "execution_count": 470,
   "metadata": {},
   "outputs": [
    {
     "name": "stdout",
     "output_type": "stream",
     "text": [
      "Уникальных операций с вагонами в датасете:\n",
      "4.0 ['ВКЛЮЧЕНИE ВАГОНА В ПОЕЗД              ']\n",
      "80.0 [' ПОДАЧА ВАГОНА НА ПП                  ']\n",
      "3.0 ['ИСКЛЮЧЕНИE ВАГОНА ИЗ ПОЕЗДА           ']\n",
      "2.0 ['ОТПРАВЛЕНИЕ ВАГОНА СО СТАНЦИИ         ']\n",
      "81.0 ['УБОРКА ВАГОНА С ПП                    ']\n",
      "18.0 ['ПОГРУЗКА БЕЗ ЗАЧЕТА В ПОГРУЗКУ        ']\n",
      "21.0 ['ВЫГРУЗКА НА ПП                        ']\n",
      "10.0 ['ПОГРУЗКА НА МЕСТАХ ОБЩ.ПОЛЬЗОВАНИЯ    ']\n",
      "11.0 ['ПОГРУЗКА НА ПП                        ']\n",
      "19.0 ['ПОГРУЗКА БЕЗ ЗАЧЕТА В ПОГРУЗКУ НА ПП  ']\n",
      "20.0 ['ВЫГРУЗКА НА МЕСТАХ ОБЩ. ПОЛЬЗОВАНИЯ   ']\n",
      "26.0 ['СДАЧА НА ИНОСТРАННУЮ Ж.Д.             ']\n",
      "78.0 [' ПРОЧИЕ ПОДАЧИ ВАГОНА ГУ-45М          ']\n",
      "79.0 [' ПРОЧИЕ УБОРКИ ВАГОНА ГУ-45М          ']\n",
      "28.0 ['ВЫГРУЗКА БЕЗ ЗАЧЕТА В ВЫГРУЗКУ        ']\n",
      "16.0 ['ПРИЕМ С ИНОСТРАННОЙ Ж.Д.              ']\n",
      "27.0 ['ПЕРЕГРУЗ НА УЗКУЮ КОЛЕЮ               ']\n",
      "13.0 ['ПРИЕМ С ВОДНОГО ТРАНСПОРТА            ']\n",
      "29.0 ['ПРОЧИЕ, УЧИТЫВАЕМЫЕ КАК ВЫГРУЗКА      ']\n",
      "14.0 ['ПРИЕМ С АВТОТРАНСПОРТА                ']\n",
      "23.0 ['СДАЧА НА ВОДНЫЙ ТРАНСПОРТ             ']\n"
     ]
    }
   ],
   "source": [
    "print('Уникальных операций с вагонами в датасете:')\n",
    "for i in ndf.operation_car[ndf.operation_car.notnull()].value_counts().index:\n",
    "    print(i,car_ops.description[car_ops.index_code == i].values)"
   ]
  },
  {
   "cell_type": "code",
   "execution_count": 819,
   "metadata": {},
   "outputs": [
    {
     "name": "stdout",
     "output_type": "stream",
     "text": [
      "Количество операций с вагонами для которых отсутствует станция:\n",
      "\n",
      "    Шифр  Опер.  Строк\n",
      "0   ИСКП   3.00    123\n",
      "1   ПВГУ  78.00     61\n",
      "2   ПГР9  19.00     58\n",
      "3   ВКЛП   4.00     55\n",
      "4   ПВПП  80.00     52\n",
      "5   ОТПР   2.00     49\n",
      "6   ПГР4  13.00     43\n",
      "7   ПГР0  18.00     37\n",
      "8   ВЫГ1  20.00     36\n",
      "9   УВГУ  79.00     35\n",
      "10  ВЫГ2  21.00     25\n",
      "11  УВПП  81.00     14\n",
      "12  ПГР2  11.00     10\n"
     ]
    }
   ],
   "source": [
    "print('Количество операций с вагонами для которых отсутствует станция:\\n')\n",
    "ol = []\n",
    "for op in list(ndf.operation_car[ndf.operation_st_id.isna()].value_counts().index):\n",
    "    ol.append(car_ops[car_ops.index_code == op].values[0][1]) \n",
    "\n",
    "print(pd.DataFrame(\n",
    "    {'Шифр': ol,\n",
    "     'Опер.': ndf.operation_car[ndf.operation_st_id.isna()].value_counts().index,\n",
    "     'Строк': ndf.operation_car[ndf.operation_st_id.isna()].value_counts().values\n",
    "    }))"
   ]
  },
  {
   "cell_type": "code",
   "execution_count": 536,
   "metadata": {},
   "outputs": [
    {
     "name": "stdout",
     "output_type": "stream",
     "text": [
      "По данным из датасета было отправлено: 312835\n",
      "В датасете нет данных по отправке 128413 вагонов\n"
     ]
    }
   ],
   "source": [
    "print(f'По данным из датасета было отправлено: {ndf.car_number[ndf.operation_car == 2].nunique()}')\n",
    "print(f'В датасете нет данных по отправке {ndf.car_number.nunique() - ndf.car_number[ndf.operation_car == 2].nunique()} вагонов')"
   ]
  },
  {
   "cell_type": "markdown",
   "metadata": {},
   "source": [
    "#### Справочные инструменты:"
   ]
  },
  {
   "cell_type": "code",
   "execution_count": 485,
   "metadata": {
    "scrolled": true
   },
   "outputs": [
    {
     "name": "stdout",
     "output_type": "stream",
     "text": [
      "Операция с вагоном: [2 'ОТПР' 'ОТПРАВЛЕНИЕ ВАГОНА СО СТАНЦИИ         ']\n",
      "Операция с поездом: [2 'От'\n",
      " 'Отпр. поезда со станции (без сдачи на дорогу,отделение,участок ДНЦ)']\n"
     ]
    }
   ],
   "source": [
    "# по номеру операции вывести описание из справочников по вагонами и поездам\n",
    "def get_op_info(operation_code):\n",
    "    try:\n",
    "        print(f'Операция с вагоном: {car_ops[car_ops.index_code == operation_code].values[0]}')\n",
    "    except:\n",
    "        print('NOP')\n",
    "    try:\n",
    "        print(f'Операция с поездом: {train_ops[train_ops.index_code == operation_code].values[0]}')\n",
    "    except:\n",
    "        print('NOP')\n",
    "    \n",
    "get_op_info(2)"
   ]
  },
  {
   "cell_type": "code",
   "execution_count": 550,
   "metadata": {
    "scrolled": true
   },
   "outputs": [
    {
     "data": {
      "text/plain": [
       "2,000,037,832.00    50\n",
       "2,000,038,836.00    50\n",
       "Name: operation_st_id, dtype: int64"
      ]
     },
     "execution_count": 550,
     "metadata": {},
     "output_type": "execute_result"
    }
   ],
   "source": [
    "# Выборка станций по количеству записей для станции в датасете:\n",
    "df.operation_st_id.value_counts()[df.operation_st_id.value_counts() == 50]\n",
    "\n",
    "# df.operation_st_id.value_counts()"
   ]
  },
  {
   "cell_type": "code",
   "execution_count": 522,
   "metadata": {},
   "outputs": [
    {
     "data": {
      "text/plain": [
       "30090294    50\n",
       "52985215    50\n",
       "53177598    50\n",
       "58066317    50\n",
       "61784906    50\n",
       "            ..\n",
       "63424105    50\n",
       "30860639    50\n",
       "56026339    50\n",
       "30860712    50\n",
       "61846879    50\n",
       "Name: car_number, Length: 125, dtype: int64"
      ]
     },
     "execution_count": 522,
     "metadata": {},
     "output_type": "execute_result"
    }
   ],
   "source": [
    "# Выборка вагонов по количеству записей для вагона в датасете:\n",
    "df.car_number.value_counts()[df.car_number.value_counts() == 50]\n",
    "# df.car_number.value_counts()"
   ]
  },
  {
   "cell_type": "markdown",
   "metadata": {
    "scrolled": false
   },
   "source": [
    "### Избавление от пропусков"
   ]
  },
  {
   "cell_type": "markdown",
   "metadata": {},
   "source": [
    "#### Операции с поездом когда нет данных по операции с вагоном:"
   ]
  },
  {
   "cell_type": "code",
   "execution_count": 791,
   "metadata": {
    "scrolled": false
   },
   "outputs": [
    {
     "name": "stdout",
     "output_type": "stream",
     "text": [
      "2.0 ['Отпр. поезда со станции (без сдачи на дорогу,отделение,участок ДНЦ)']\n",
      "62.0 ['Отпр. поезда со станции со сдачей на соседний участок']\n",
      "22.0 ['Отпр. поезда co станции со сдачей на другую дорогу']\n",
      "42.0 ['Отпр. поезда со станции со сдачей на соседнее отделение']\n"
     ]
    }
   ],
   "source": [
    "for i in ndf.operation_train[ndf.operation_car.isna()].value_counts().index:\n",
    "    print(i,train_ops.description[train_ops.index_code == i].values)"
   ]
  },
  {
   "cell_type": "code",
   "execution_count": 792,
   "metadata": {},
   "outputs": [],
   "source": [
    "# все пропуски можно заменить операцией отправления\n",
    "ndf.operation_car = ndf.operation_car.fillna(2)"
   ]
  },
  {
   "cell_type": "markdown",
   "metadata": {},
   "source": [
    "#### Предполагаем что если опасность вагона не указана, значит она отсутствует:"
   ]
  },
  {
   "cell_type": "code",
   "execution_count": 793,
   "metadata": {},
   "outputs": [],
   "source": [
    "ndf.danger = ndf.danger.fillna(0)"
   ]
  },
  {
   "cell_type": "markdown",
   "metadata": {},
   "source": [
    "### Визуализация датасета"
   ]
  },
  {
   "cell_type": "code",
   "execution_count": 820,
   "metadata": {
    "scrolled": true
   },
   "outputs": [
    {
     "name": "stdout",
     "output_type": "stream",
     "text": [
      "st_id == 2000039118, в датасете с этой станцией имеются записи по:\n",
      "9 вагонам и\n",
      "54 операциям\n"
     ]
    }
   ],
   "source": [
    "print(f'st_id == {st_id}, в датасете с этой станцией имеются записи по:\\n{ndf.car_number[ndf.operation_st_id == st_id].nunique()} вагонам и\\n{ndf[ndf.operation_st_id == st_id].shape[0]} операциям')"
   ]
  },
  {
   "cell_type": "code",
   "execution_count": 821,
   "metadata": {
    "scrolled": false
   },
   "outputs": [
    {
     "data": {
      "image/png": "[encoded data removed]",
      "text/plain": [
       "<Figure size 1018.62x720 with 1 Axes>"
      ]
     },
     "metadata": {},
     "output_type": "display_data"
    }
   ],
   "source": [
    "st_df = ndf[ndf.operation_st_id == st_id].sort_values(by=['operation_date']).reset_index(drop=True)\n",
    "st_df = st_df[['car_number','operation_car']]\n",
    "\n",
    "sns.catplot(x=st_df['car_number'], y=st_df['operation_car'], data=st_df,height=10, aspect=11.7/8.27)\n",
    "plt.ylabel('Номера операций')\n",
    "plt.xlabel('Номера вагонов')\n",
    "plt.xticks(rotation=90)\n",
    "plt.minorticks_on()\n",
    "plt.grid(which='both')\n",
    "plt.grid(axis='both')\n",
    "plt.title('Операции с вагонами на станции {st_id}')\n",
    "plt.show()"
   ]
  },
  {
   "cell_type": "code",
   "execution_count": 822,
   "metadata": {},
   "outputs": [
    {
     "name": "stderr",
     "output_type": "stream",
     "text": [
      "100%|██████████| 6/6 [00:00<00:00, 67.70it/s]\n"
     ]
    },
    {
     "data": {
      "image/png": "[encoded data removed]",
      "text/plain": [
       "<Figure size 914.4x739.44 with 1 Axes>"
      ]
     },
     "metadata": {},
     "output_type": "display_data"
    }
   ],
   "source": [
    "warnings.filterwarnings('ignore')\n",
    "tmp_df1 = pd.DataFrame(columns=ndf.columns)\n",
    "for car in tqdm(sorted_cars['3.']):\n",
    "    tmp_df2 = ndf[ndf.operation_st_id == st_id][ndf.car_number == car_num]\n",
    "    tmp_df1 = tmp_df1.append(tmp_df2)\n",
    "    \n",
    "tmp_df1 =  tmp_df1.sort_values(by='operation_date').reset_index(drop=True)\n",
    "    \n",
    "sns.scatterplot(x=tmp_df1.operation_date.values,y=tmp_df1.operation_car.values)\n",
    "plt.xticks(rotation=15)\n",
    "plt.title(f'Операции с вагоном {car_num} на станции {st_id}')\n",
    "# plt.ylim(0, 10)\n",
    "plt.minorticks_on()\n",
    "# plt.grid(which='both')\n",
    "plt.show()"
   ]
  },
  {
   "cell_type": "markdown",
   "metadata": {},
   "source": [
    "#### Отрисовка графов последовательностей операций"
   ]
  },
  {
   "cell_type": "code",
   "execution_count": 812,
   "metadata": {
    "scrolled": true
   },
   "outputs": [],
   "source": [
    "def ops_tr_for_set_of_carts(cartsSet: set) -> pd.DataFrame:\n",
    "    \"\"\"\n",
    "    Builds DF with historical data of changes in states from one operation to another for a set of carts IDs.\n",
    "    :param cartsSet: set with carts numbers from nom_vag_op\n",
    "    :return: dataframe with following format (note that state changes are not unique)\n",
    "        from \tto\n",
    "    0 \t3 \t    4\n",
    "    1 \t4 \t    3\n",
    "    2 \t3 \t    4\n",
    "    3 \t4 \t    3\n",
    "    ...\n",
    "    \"\"\"\n",
    "    stateChangeDF = pd.DataFrame(columns=['from', 'to'])\n",
    "    iter = 0\n",
    "    for cartID in tqdm(cartsSet):\n",
    "        iter += 1\n",
    "        opsListCart = list(ndf[ndf.car_number == cartID].sort_values(by=['operation_date'])['operation_car'])\n",
    "        state_change = pd.DataFrame({'from': opsListCart[:-1], 'to': opsListCart[1:]})\n",
    "        stateChangeDF = pd.concat(\n",
    "            [stateChangeDF, state_change],\n",
    "            axis=0,\n",
    "            join=\"outer\",\n",
    "            ignore_index=True,\n",
    "            keys=None,\n",
    "            levels=None,\n",
    "            names=None,\n",
    "            verify_integrity=False,\n",
    "            copy=True,\n",
    "        )\n",
    "    return stateChangeDF\n",
    "\n",
    "\n",
    "def count_ops_transitions(cartsSet: set) -> dict:\n",
    "    \"\"\"\n",
    "    Builds a dict with unique operation changes and state change frequency.\n",
    "    :param cartsSet: set with carts numbers from nom_vag_op\n",
    "    :return: dict with unique operations and their quantity. See example below:\n",
    "    {'3->4': 2, '4->3': 2, '3->2': 1, '2->80': 1}\n",
    "    \"\"\"\n",
    "    sChangeList = []\n",
    "    linksDict: dict = {}\n",
    "    sChangeDF = ops_tr_for_set_of_carts(cartsSet)\n",
    "    for i in range(sChangeDF.shape[0]):\n",
    "        src = str(list(sChangeDF.loc[i])[0])\n",
    "        trg = str(list(sChangeDF.loc[i])[1])\n",
    "        sChangeList.append(src + \"->\" + trg)\n",
    "    for entry in sChangeList:\n",
    "        key = str(entry)\n",
    "        if key in linksDict.keys():\n",
    "            linksDict[key] += 1\n",
    "        else:\n",
    "            linksDict[key] = 1\n",
    "    return linksDict"
   ]
  },
  {
   "cell_type": "code",
   "execution_count": 824,
   "metadata": {
    "scrolled": true
   },
   "outputs": [
    {
     "name": "stderr",
     "output_type": "stream",
     "text": [
      "100%|██████████| 1/1 [00:00<00:00, 113.00it/s]\n"
     ]
    },
    {
     "data": {
      "image/svg+xml": [
       "<?xml version=\"1.0\" encoding=\"UTF-8\" standalone=\"no\"?>\n",
       "<!DOCTYPE svg PUBLIC \"-//W3C//DTD SVG 1.1//EN\"\n",
       " \"http://www.w3.org/Graphics/SVG/1.1/DTD/svg11.dtd\">\n",
       "<!-- Generated by graphviz version 2.44.1 (20200629.0846)\n",
       " -->\n",
       "<!-- Title: finite_state_machine Pages: 1 -->\n",
       "<svg width=\"523pt\" height=\"135pt\"\n",
       " viewBox=\"0.00 0.00 523.17 135.00\" xmlns=\"http://www.w3.org/2000/svg\" xmlns:xlink=\"http://www.w3.org/1999/xlink\">\n",
       "<g id=\"graph0\" class=\"graph\" transform=\"scale(1 1) rotate(0) translate(4 131)\">\n",
       "<title>finite_state_machine</title>\n",
       "<polygon fill=\"white\" stroke=\"transparent\" points=\"-4,4 -4,-131 519.17,-131 519.17,4 -4,4\"/>\n",
       "<!-- ИСКП -->\n",
       "<g id=\"node1\" class=\"node\">\n",
       "<title>ИСКП</title>\n",
       "<ellipse fill=\"none\" stroke=\"black\" cx=\"36.4\" cy=\"-71\" rx=\"36.29\" ry=\"18\"/>\n",
       "<text text-anchor=\"middle\" x=\"36.4\" y=\"-67.3\" font-family=\"Times,serif\" font-size=\"14.00\">ИСКП</text>\n",
       "</g>\n",
       "<!-- ВЫГ0 -->\n",
       "<g id=\"node2\" class=\"node\">\n",
       "<title>ВЫГ0</title>\n",
       "<ellipse fill=\"none\" stroke=\"black\" cx=\"150.24\" cy=\"-109\" rx=\"34.39\" ry=\"18\"/>\n",
       "<text text-anchor=\"middle\" x=\"150.24\" y=\"-105.3\" font-family=\"Times,serif\" font-size=\"14.00\">ВЫГ0</text>\n",
       "</g>\n",
       "<!-- ИСКП&#45;&gt;ВЫГ0 -->\n",
       "<g id=\"edge1\" class=\"edge\">\n",
       "<title>ИСКП&#45;&gt;ВЫГ0</title>\n",
       "<path fill=\"none\" stroke=\"black\" d=\"M66.78,-80.98C80.35,-85.59 96.63,-91.12 111.13,-96.05\"/>\n",
       "<polygon fill=\"black\" stroke=\"black\" points=\"110.23,-99.44 120.82,-99.34 112.48,-92.81 110.23,-99.44\"/>\n",
       "<text text-anchor=\"middle\" x=\"94.29\" y=\"-94.8\" font-family=\"Times,serif\" font-size=\"14.00\">5</text>\n",
       "</g>\n",
       "<!-- ПВГУ -->\n",
       "<g id=\"node6\" class=\"node\">\n",
       "<title>ПВГУ</title>\n",
       "<ellipse fill=\"none\" stroke=\"black\" cx=\"150.24\" cy=\"-51\" rx=\"34.39\" ry=\"18\"/>\n",
       "<text text-anchor=\"middle\" x=\"150.24\" y=\"-47.3\" font-family=\"Times,serif\" font-size=\"14.00\">ПВГУ</text>\n",
       "</g>\n",
       "<!-- ИСКП&#45;&gt;ПВГУ -->\n",
       "<g id=\"edge6\" class=\"edge\">\n",
       "<title>ИСКП&#45;&gt;ПВГУ</title>\n",
       "<path fill=\"none\" stroke=\"black\" d=\"M70.95,-65C82.3,-62.97 95.12,-60.68 107.05,-58.55\"/>\n",
       "<polygon fill=\"black\" stroke=\"black\" points=\"108.01,-61.93 117.24,-56.72 106.78,-55.04 108.01,-61.93\"/>\n",
       "<text text-anchor=\"middle\" x=\"94.29\" y=\"-64.8\" font-family=\"Times,serif\" font-size=\"14.00\">1</text>\n",
       "</g>\n",
       "<!-- ПГР0 -->\n",
       "<g id=\"node3\" class=\"node\">\n",
       "<title>ПГР0</title>\n",
       "<ellipse fill=\"none\" stroke=\"black\" cx=\"258.88\" cy=\"-109\" rx=\"31.4\" ry=\"18\"/>\n",
       "<text text-anchor=\"middle\" x=\"258.88\" y=\"-105.3\" font-family=\"Times,serif\" font-size=\"14.00\">ПГР0</text>\n",
       "</g>\n",
       "<!-- ВЫГ0&#45;&gt;ПГР0 -->\n",
       "<g id=\"edge2\" class=\"edge\">\n",
       "<title>ВЫГ0&#45;&gt;ПГР0</title>\n",
       "<path fill=\"none\" stroke=\"black\" d=\"M184.69,-109C195.06,-109 206.6,-109 217.39,-109\"/>\n",
       "<polygon fill=\"black\" stroke=\"black\" points=\"217.45,-112.5 227.45,-109 217.45,-105.5 217.45,-112.5\"/>\n",
       "<text text-anchor=\"middle\" x=\"206.19\" y=\"-112.8\" font-family=\"Times,serif\" font-size=\"14.00\">5</text>\n",
       "</g>\n",
       "<!-- ВКЛП -->\n",
       "<g id=\"node4\" class=\"node\">\n",
       "<title>ВКЛП</title>\n",
       "<ellipse fill=\"none\" stroke=\"black\" cx=\"368.83\" cy=\"-109\" rx=\"36\" ry=\"18\"/>\n",
       "<text text-anchor=\"middle\" x=\"368.83\" y=\"-105.3\" font-family=\"Times,serif\" font-size=\"14.00\">ВКЛП</text>\n",
       "</g>\n",
       "<!-- ПГР0&#45;&gt;ВКЛП -->\n",
       "<g id=\"edge3\" class=\"edge\">\n",
       "<title>ПГР0&#45;&gt;ВКЛП</title>\n",
       "<path fill=\"none\" stroke=\"black\" d=\"M290.24,-109C300.26,-109 311.63,-109 322.52,-109\"/>\n",
       "<polygon fill=\"black\" stroke=\"black\" points=\"322.75,-112.5 332.75,-109 322.75,-105.5 322.75,-112.5\"/>\n",
       "<text text-anchor=\"middle\" x=\"311.58\" y=\"-112.8\" font-family=\"Times,serif\" font-size=\"14.00\">5</text>\n",
       "</g>\n",
       "<!-- ОТПР -->\n",
       "<g id=\"node5\" class=\"node\">\n",
       "<title>ОТПР</title>\n",
       "<ellipse fill=\"none\" stroke=\"black\" cx=\"481.37\" cy=\"-109\" rx=\"33.6\" ry=\"18\"/>\n",
       "<text text-anchor=\"middle\" x=\"481.37\" y=\"-105.3\" font-family=\"Times,serif\" font-size=\"14.00\">ОТПР</text>\n",
       "</g>\n",
       "<!-- ВКЛП&#45;&gt;ОТПР -->\n",
       "<g id=\"edge4\" class=\"edge\">\n",
       "<title>ВКЛП&#45;&gt;ОТПР</title>\n",
       "<path fill=\"none\" stroke=\"black\" d=\"M404.81,-109C415.16,-109 426.62,-109 437.41,-109\"/>\n",
       "<polygon fill=\"black\" stroke=\"black\" points=\"437.51,-112.5 447.51,-109 437.51,-105.5 437.51,-112.5\"/>\n",
       "<text text-anchor=\"middle\" x=\"426.08\" y=\"-112.8\" font-family=\"Times,serif\" font-size=\"14.00\">5</text>\n",
       "</g>\n",
       "<!-- ОТПР&#45;&gt;ИСКП -->\n",
       "<g id=\"edge5\" class=\"edge\">\n",
       "<title>ОТПР&#45;&gt;ИСКП</title>\n",
       "<path fill=\"none\" stroke=\"black\" d=\"M472.57,-91.49C457.51,-60.68 421.31,0 369.83,0 149.24,0 149.24,0 149.24,0 113.19,0 79.35,-26.62 58.54,-47.26\"/>\n",
       "<polygon fill=\"black\" stroke=\"black\" points=\"55.93,-44.92 51.48,-54.53 60.95,-49.79 55.93,-44.92\"/>\n",
       "<text text-anchor=\"middle\" x=\"258.88\" y=\"-3.8\" font-family=\"Times,serif\" font-size=\"14.00\">4</text>\n",
       "</g>\n",
       "<!-- ПВГУ&#45;&gt;ИСКП -->\n",
       "<g id=\"edge7\" class=\"edge\">\n",
       "<title>ПВГУ&#45;&gt;ИСКП</title>\n",
       "<path fill=\"none\" stroke=\"black\" d=\"M121.08,-41.36C111.41,-39.31 100.55,-38.45 90.79,-41 82.46,-43.18 74.05,-46.99 66.44,-51.17\"/>\n",
       "<polygon fill=\"black\" stroke=\"black\" points=\"64.46,-48.28 57.63,-56.38 68.02,-54.31 64.46,-48.28\"/>\n",
       "<text text-anchor=\"middle\" x=\"94.29\" y=\"-44.8\" font-family=\"Times,serif\" font-size=\"14.00\">1</text>\n",
       "</g>\n",
       "</g>\n",
       "</svg>\n"
      ],
      "text/plain": [
       "<graphviz.dot.Digraph at 0x146a69fd0>"
      ]
     },
     "execution_count": 824,
     "metadata": {},
     "output_type": "execute_result"
    }
   ],
   "source": [
    "sdict = count_ops_transitions(carSet)\n",
    "\n",
    "DG = Digraph('finite_state_machine', filename='ops_fsm')\n",
    "DG.attr(rankdir='LR', size='8,5')\n",
    "\n",
    "for key in sdict:\n",
    "    src = car_ops[car_ops.index_code == float(key.split('->')[0])].values[0][1]\n",
    "    dst = car_ops[car_ops.index_code == float(key.split('->')[1])].values[0][1]\n",
    "    DG.edge(src, dst, weight=str(sdict[key]), label=str(sdict[key]))\n",
    "\n",
    "DG"
   ]
  },
  {
   "cell_type": "code",
   "execution_count": 825,
   "metadata": {
    "scrolled": false
   },
   "outputs": [
    {
     "data": {
      "image/svg+xml": [
       "<?xml version=\"1.0\" encoding=\"UTF-8\" standalone=\"no\"?>\n",
       "<!DOCTYPE svg PUBLIC \"-//W3C//DTD SVG 1.1//EN\"\n",
       " \"http://www.w3.org/Graphics/SVG/1.1/DTD/svg11.dtd\">\n",
       "<!-- Generated by graphviz version 2.44.1 (20200629.0846)\n",
       " -->\n",
       "<!-- Title: FSM for car #37695855 Pages: 1 -->\n",
       "<svg width=\"576pt\" height=\"261pt\"\n",
       " viewBox=\"0.00 0.00 576.00 260.60\" xmlns=\"http://www.w3.org/2000/svg\" xmlns:xlink=\"http://www.w3.org/1999/xlink\">\n",
       "<g id=\"graph0\" class=\"graph\" transform=\"scale(0.61 0.61) rotate(0) translate(4 424.34)\">\n",
       "<title>FSM for car #37695855</title>\n",
       "<polygon fill=\"white\" stroke=\"transparent\" points=\"-4,4 -4,-424.34 942.78,-424.34 942.78,4 -4,4\"/>\n",
       "<!-- ИСКП -->\n",
       "<g id=\"node1\" class=\"node\">\n",
       "<title>ИСКП</title>\n",
       "<ellipse fill=\"none\" stroke=\"black\" cx=\"36.4\" cy=\"-217.34\" rx=\"36.29\" ry=\"18\"/>\n",
       "<text text-anchor=\"middle\" x=\"36.4\" y=\"-213.64\" font-family=\"Times,serif\" font-size=\"14.00\">ИСКП</text>\n",
       "</g>\n",
       "<!-- ВЫГ0 -->\n",
       "<g id=\"node2\" class=\"node\">\n",
       "<title>ВЫГ0</title>\n",
       "<ellipse fill=\"none\" stroke=\"black\" cx=\"257.24\" cy=\"-305.34\" rx=\"34.39\" ry=\"18\"/>\n",
       "<text text-anchor=\"middle\" x=\"257.24\" y=\"-301.64\" font-family=\"Times,serif\" font-size=\"14.00\">ВЫГ0</text>\n",
       "</g>\n",
       "<!-- ИСКП&#45;&gt;ВЫГ0 -->\n",
       "<g id=\"edge1\" class=\"edge\">\n",
       "<title>ИСКП&#45;&gt;ВЫГ0</title>\n",
       "<path fill=\"none\" stroke=\"black\" d=\"M36.84,-235.41C36.86,-271.08 42.63,-350.11 90.79,-385.34 131.69,-415.26 160.32,-409.62 204.79,-385.34 225.19,-374.21 238.71,-351.15 246.75,-332.63\"/>\n",
       "<polygon fill=\"black\" stroke=\"black\" points=\"250.06,-333.77 250.56,-323.18 243.57,-331.15 250.06,-333.77\"/>\n",
       "<text text-anchor=\"middle\" x=\"147.79\" y=\"-409.14\" font-family=\"Times,serif\" font-size=\"14.00\">#1 &#45; 4614 minutes</text>\n",
       "</g>\n",
       "<!-- ИСКП&#45;&gt;ВЫГ0 -->\n",
       "<g id=\"edge6\" class=\"edge\">\n",
       "<title>ИСКП&#45;&gt;ВЫГ0</title>\n",
       "<path fill=\"none\" stroke=\"black\" d=\"M38.74,-235.52C41.99,-264.9 53.1,-322.07 90.79,-347.34 132.88,-375.55 157.07,-364.35 204.79,-347.34 215.66,-343.47 225.89,-336.21 234.32,-328.81\"/>\n",
       "<polygon fill=\"black\" stroke=\"black\" points=\"236.92,-331.16 241.81,-321.76 232.13,-326.06 236.92,-331.16\"/>\n",
       "<text text-anchor=\"middle\" x=\"147.79\" y=\"-368.14\" font-family=\"Times,serif\" font-size=\"14.00\">#6 &#45; 380 minutes</text>\n",
       "</g>\n",
       "<!-- ИСКП&#45;&gt;ВЫГ0 -->\n",
       "<g id=\"edge13\" class=\"edge\">\n",
       "<title>ИСКП&#45;&gt;ВЫГ0</title>\n",
       "<path fill=\"none\" stroke=\"black\" d=\"M41.98,-235.44C48.62,-257.41 63.27,-293.49 90.79,-309.34 129.43,-331.59 182.02,-325.4 217.45,-317.07\"/>\n",
       "<polygon fill=\"black\" stroke=\"black\" points=\"218.56,-320.4 227.41,-314.56 216.86,-313.61 218.56,-320.4\"/>\n",
       "<text text-anchor=\"middle\" x=\"147.79\" y=\"-328.14\" font-family=\"Times,serif\" font-size=\"14.00\">#13 &#45; 159 minutes</text>\n",
       "</g>\n",
       "<!-- ИСКП&#45;&gt;ВЫГ0 -->\n",
       "<g id=\"edge18\" class=\"edge\">\n",
       "<title>ИСКП&#45;&gt;ВЫГ0</title>\n",
       "<path fill=\"none\" stroke=\"black\" d=\"M49.44,-234.29C59.15,-246.61 73.94,-262.61 90.79,-271.34 136.4,-294.98 154.72,-278.91 204.79,-290.34 208.93,-291.29 213.22,-292.37 217.48,-293.51\"/>\n",
       "<polygon fill=\"black\" stroke=\"black\" points=\"216.71,-296.93 227.29,-296.25 218.59,-290.19 216.71,-296.93\"/>\n",
       "<text text-anchor=\"middle\" x=\"147.79\" y=\"-294.14\" font-family=\"Times,serif\" font-size=\"14.00\">#18 &#45; 10097 minutes</text>\n",
       "</g>\n",
       "<!-- ИСКП&#45;&gt;ВЫГ0 -->\n",
       "<g id=\"edge23\" class=\"edge\">\n",
       "<title>ИСКП&#45;&gt;ВЫГ0</title>\n",
       "<path fill=\"none\" stroke=\"black\" d=\"M67.15,-226.98C74.81,-229.26 83.06,-231.55 90.79,-233.34 140.83,-244.96 159.3,-228.5 204.79,-252.34 217.61,-259.06 229.12,-270.15 237.99,-280.46\"/>\n",
       "<polygon fill=\"black\" stroke=\"black\" points=\"235.48,-282.92 244.51,-288.46 240.91,-278.49 235.48,-282.92\"/>\n",
       "<text text-anchor=\"middle\" x=\"147.79\" y=\"-256.14\" font-family=\"Times,serif\" font-size=\"14.00\">#23 &#45; 4631 minutes</text>\n",
       "</g>\n",
       "<!-- ПВГУ -->\n",
       "<g id=\"node6\" class=\"node\">\n",
       "<title>ПВГУ</title>\n",
       "<ellipse fill=\"none\" stroke=\"black\" cx=\"257.24\" cy=\"-211.34\" rx=\"34.39\" ry=\"18\"/>\n",
       "<text text-anchor=\"middle\" x=\"257.24\" y=\"-207.64\" font-family=\"Times,serif\" font-size=\"14.00\">ПВГУ</text>\n",
       "</g>\n",
       "<!-- ИСКП&#45;&gt;ПВГУ -->\n",
       "<g id=\"edge11\" class=\"edge\">\n",
       "<title>ИСКП&#45;&gt;ПВГУ</title>\n",
       "<path fill=\"none\" stroke=\"black\" d=\"M73.04,-216.37C111.15,-215.32 171.6,-213.66 212.54,-212.54\"/>\n",
       "<polygon fill=\"black\" stroke=\"black\" points=\"212.86,-216.03 222.76,-212.26 212.67,-209.04 212.86,-216.03\"/>\n",
       "<text text-anchor=\"middle\" x=\"147.79\" y=\"-219.14\" font-family=\"Times,serif\" font-size=\"14.00\">#11 &#45; 20 minutes</text>\n",
       "</g>\n",
       "<!-- ПГР0 -->\n",
       "<g id=\"node3\" class=\"node\">\n",
       "<title>ПГР0</title>\n",
       "<ellipse fill=\"none\" stroke=\"black\" cx=\"477.69\" cy=\"-302.34\" rx=\"31.4\" ry=\"18\"/>\n",
       "<text text-anchor=\"middle\" x=\"477.69\" y=\"-298.64\" font-family=\"Times,serif\" font-size=\"14.00\">ПГР0</text>\n",
       "</g>\n",
       "<!-- ВЫГ0&#45;&gt;ПГР0 -->\n",
       "<g id=\"edge2\" class=\"edge\">\n",
       "<title>ВЫГ0&#45;&gt;ПГР0</title>\n",
       "<path fill=\"none\" stroke=\"black\" d=\"M269.48,-322.45C278.64,-334.73 292.81,-350.3 309.69,-357.34 350.7,-374.46 367.84,-372.32 409.69,-357.34 427.52,-350.96 444.02,-337.56 456.18,-325.58\"/>\n",
       "<polygon fill=\"black\" stroke=\"black\" points=\"458.71,-328 463.16,-318.38 453.69,-323.12 458.71,-328\"/>\n",
       "<text text-anchor=\"middle\" x=\"359.69\" y=\"-373.14\" font-family=\"Times,serif\" font-size=\"14.00\">#2 &#45; 420 minutes</text>\n",
       "</g>\n",
       "<!-- ВЫГ0&#45;&gt;ПГР0 -->\n",
       "<g id=\"edge7\" class=\"edge\">\n",
       "<title>ВЫГ0&#45;&gt;ПГР0</title>\n",
       "<path fill=\"none\" stroke=\"black\" d=\"M287.08,-314.63C294.38,-316.58 302.26,-318.35 309.69,-319.34 353.74,-325.23 365.59,-324.85 409.69,-319.34 419.67,-318.1 430.31,-315.84 440.09,-313.37\"/>\n",
       "<polygon fill=\"black\" stroke=\"black\" points=\"441.16,-316.71 449.92,-310.76 439.36,-309.95 441.16,-316.71\"/>\n",
       "<text text-anchor=\"middle\" x=\"359.69\" y=\"-327.14\" font-family=\"Times,serif\" font-size=\"14.00\">#7 &#45; 57 minutes</text>\n",
       "</g>\n",
       "<!-- ВЫГ0&#45;&gt;ПГР0 -->\n",
       "<g id=\"edge14\" class=\"edge\">\n",
       "<title>ВЫГ0&#45;&gt;ПГР0</title>\n",
       "<path fill=\"none\" stroke=\"black\" d=\"M291.14,-301.67C297.3,-301.12 303.68,-300.63 309.69,-300.34 352.81,-298.25 402.26,-299.27 436.09,-300.49\"/>\n",
       "<polygon fill=\"black\" stroke=\"black\" points=\"436.37,-304 446.5,-300.89 436.64,-297.01 436.37,-304\"/>\n",
       "<text text-anchor=\"middle\" x=\"359.69\" y=\"-304.14\" font-family=\"Times,serif\" font-size=\"14.00\">#14 &#45; 34 minutes</text>\n",
       "</g>\n",
       "<!-- ВЫГ0&#45;&gt;ПГР0 -->\n",
       "<g id=\"edge19\" class=\"edge\">\n",
       "<title>ВЫГ0&#45;&gt;ПГР0</title>\n",
       "<path fill=\"none\" stroke=\"black\" d=\"M279.9,-291.56C288.77,-286.68 299.37,-281.8 309.69,-279.34 352.92,-269.04 365.85,-272.03 409.69,-279.34 420.63,-281.17 432.17,-284.56 442.54,-288.19\"/>\n",
       "<polygon fill=\"black\" stroke=\"black\" points=\"441.47,-291.53 452.06,-291.7 443.89,-284.96 441.47,-291.53\"/>\n",
       "<text text-anchor=\"middle\" x=\"359.69\" y=\"-283.14\" font-family=\"Times,serif\" font-size=\"14.00\">#19 &#45; 422 minutes</text>\n",
       "</g>\n",
       "<!-- ВЫГ0&#45;&gt;ПГР0 -->\n",
       "<g id=\"edge24\" class=\"edge\">\n",
       "<title>ВЫГ0&#45;&gt;ПГР0</title>\n",
       "<path fill=\"none\" stroke=\"black\" d=\"M269.48,-288.24C278.64,-275.96 292.81,-260.39 309.69,-253.34 350.7,-236.23 367.44,-239.54 409.69,-253.34 426.05,-258.69 441.73,-269.71 453.8,-279.95\"/>\n",
       "<polygon fill=\"black\" stroke=\"black\" points=\"451.74,-282.81 461.54,-286.84 456.39,-277.58 451.74,-282.81\"/>\n",
       "<text text-anchor=\"middle\" x=\"359.69\" y=\"-257.14\" font-family=\"Times,serif\" font-size=\"14.00\">#24 &#45; 5 minutes</text>\n",
       "</g>\n",
       "<!-- ВКЛП -->\n",
       "<g id=\"node4\" class=\"node\">\n",
       "<title>ВКЛП</title>\n",
       "<ellipse fill=\"none\" stroke=\"black\" cx=\"699.43\" cy=\"-265.34\" rx=\"36\" ry=\"18\"/>\n",
       "<text text-anchor=\"middle\" x=\"699.43\" y=\"-261.64\" font-family=\"Times,serif\" font-size=\"14.00\">ВКЛП</text>\n",
       "</g>\n",
       "<!-- ПГР0&#45;&gt;ВКЛП -->\n",
       "<g id=\"edge3\" class=\"edge\">\n",
       "<title>ПГР0&#45;&gt;ВКЛП</title>\n",
       "<path fill=\"none\" stroke=\"black\" d=\"M494.15,-317.78C506.8,-329.24 525.8,-343.95 545.69,-350.34 588,-363.94 606.85,-371.95 645.69,-350.34 667.63,-338.14 681.61,-312.61 689.63,-292.7\"/>\n",
       "<polygon fill=\"black\" stroke=\"black\" points=\"692.96,-293.77 693.19,-283.18 686.4,-291.32 692.96,-293.77\"/>\n",
       "<text text-anchor=\"middle\" x=\"595.69\" y=\"-367.14\" font-family=\"Times,serif\" font-size=\"14.00\">#3 &#45; 545 minutes</text>\n",
       "</g>\n",
       "<!-- ПГР0&#45;&gt;ВКЛП -->\n",
       "<g id=\"edge8\" class=\"edge\">\n",
       "<title>ПГР0&#45;&gt;ВКЛП</title>\n",
       "<path fill=\"none\" stroke=\"black\" d=\"M505.75,-310.61C539.66,-319.5 599,-330.13 645.69,-312.34 658.04,-307.64 669.35,-298.56 678.3,-289.63\"/>\n",
       "<polygon fill=\"black\" stroke=\"black\" points=\"680.93,-291.94 685.23,-282.25 675.83,-287.14 680.93,-291.94\"/>\n",
       "<text text-anchor=\"middle\" x=\"595.69\" y=\"-325.14\" font-family=\"Times,serif\" font-size=\"14.00\">#8 &#45; 487 minutes</text>\n",
       "</g>\n",
       "<!-- ПГР0&#45;&gt;ВКЛП -->\n",
       "<g id=\"edge15\" class=\"edge\">\n",
       "<title>ПГР0&#45;&gt;ВКЛП</title>\n",
       "<path fill=\"none\" stroke=\"black\" d=\"M507.95,-297.46C541.3,-291.9 597.43,-282.51 645.69,-274.34 648.75,-273.83 651.91,-273.29 655.09,-272.75\"/>\n",
       "<polygon fill=\"black\" stroke=\"black\" points=\"655.96,-276.15 665.23,-271.02 654.79,-269.25 655.96,-276.15\"/>\n",
       "<text text-anchor=\"middle\" x=\"595.69\" y=\"-294.14\" font-family=\"Times,serif\" font-size=\"14.00\">#15 &#45; 11 minutes</text>\n",
       "</g>\n",
       "<!-- ПГР0&#45;&gt;ВКЛП -->\n",
       "<g id=\"edge20\" class=\"edge\">\n",
       "<title>ПГР0&#45;&gt;ВКЛП</title>\n",
       "<path fill=\"none\" stroke=\"black\" d=\"M494.47,-287C507.16,-275.8 526.04,-261.55 545.69,-255.34 582.34,-243.77 626.34,-248.47 657.68,-254.74\"/>\n",
       "<polygon fill=\"black\" stroke=\"black\" points=\"657.29,-258.24 667.8,-256.91 658.75,-251.39 657.29,-258.24\"/>\n",
       "<text text-anchor=\"middle\" x=\"595.69\" y=\"-259.14\" font-family=\"Times,serif\" font-size=\"14.00\">#20 &#45; 528 minutes</text>\n",
       "</g>\n",
       "<!-- ПГР0&#45;&gt;ВКЛП -->\n",
       "<g id=\"edge25\" class=\"edge\">\n",
       "<title>ПГР0&#45;&gt;ВКЛП</title>\n",
       "<path fill=\"none\" stroke=\"black\" d=\"M488.16,-285.33C499.27,-267.33 519.55,-239.94 545.69,-228.34 586.31,-210.32 603.31,-214.96 645.69,-228.34 655.5,-231.44 665.08,-237.1 673.32,-243.07\"/>\n",
       "<polygon fill=\"black\" stroke=\"black\" points=\"671.33,-245.95 681.37,-249.31 675.61,-240.42 671.33,-245.95\"/>\n",
       "<text text-anchor=\"middle\" x=\"595.69\" y=\"-232.14\" font-family=\"Times,serif\" font-size=\"14.00\">#25 &#45; 410 minutes</text>\n",
       "</g>\n",
       "<!-- ОТПР -->\n",
       "<g id=\"node5\" class=\"node\">\n",
       "<title>ОТПР</title>\n",
       "<ellipse fill=\"none\" stroke=\"black\" cx=\"904.98\" cy=\"-186.34\" rx=\"33.6\" ry=\"18\"/>\n",
       "<text text-anchor=\"middle\" x=\"904.98\" y=\"-182.64\" font-family=\"Times,serif\" font-size=\"14.00\">ОТПР</text>\n",
       "</g>\n",
       "<!-- ВКЛП&#45;&gt;ОТПР -->\n",
       "<g id=\"edge4\" class=\"edge\">\n",
       "<title>ВКЛП&#45;&gt;ОТПР</title>\n",
       "<path fill=\"none\" stroke=\"black\" d=\"M712.32,-282.39C721.81,-294.4 736.29,-309.51 753.18,-316.34 794.38,-333.01 816.48,-341.41 853.18,-316.34 886.48,-293.61 897.95,-245.51 901.9,-214.62\"/>\n",
       "<polygon fill=\"black\" stroke=\"black\" points=\"905.4,-214.81 903.01,-204.49 898.44,-214.05 905.4,-214.81\"/>\n",
       "<text text-anchor=\"middle\" x=\"803.18\" y=\"-335.14\" font-family=\"Times,serif\" font-size=\"14.00\">#4 &#45; 92 minutes</text>\n",
       "</g>\n",
       "<!-- ВКЛП&#45;&gt;ОТПР -->\n",
       "<g id=\"edge9\" class=\"edge\">\n",
       "<title>ВКЛП&#45;&gt;ОТПР</title>\n",
       "<path fill=\"none\" stroke=\"black\" d=\"M727.66,-276.65C759.96,-288.14 814.33,-301.27 853.18,-278.34 876.51,-264.57 889.87,-235.83 896.97,-214.11\"/>\n",
       "<polygon fill=\"black\" stroke=\"black\" points=\"900.36,-214.99 899.89,-204.41 893.66,-212.97 900.36,-214.99\"/>\n",
       "<text text-anchor=\"middle\" x=\"803.18\" y=\"-294.14\" font-family=\"Times,serif\" font-size=\"14.00\">#9 &#45; 459 minutes</text>\n",
       "</g>\n",
       "<!-- ВКЛП&#45;&gt;ОТПР -->\n",
       "<g id=\"edge16\" class=\"edge\">\n",
       "<title>ВКЛП&#45;&gt;ОТПР</title>\n",
       "<path fill=\"none\" stroke=\"black\" d=\"M734.23,-260.98C776.01,-255.41 842.86,-245.84 853.18,-240.34 866.09,-233.47 877.55,-222.06 886.3,-211.5\"/>\n",
       "<polygon fill=\"black\" stroke=\"black\" points=\"889.3,-213.34 892.71,-203.31 883.79,-209.02 889.3,-213.34\"/>\n",
       "<text text-anchor=\"middle\" x=\"803.18\" y=\"-261.14\" font-family=\"Times,serif\" font-size=\"14.00\">#16 &#45; 175 minutes</text>\n",
       "</g>\n",
       "<!-- ВКЛП&#45;&gt;ОТПР -->\n",
       "<g id=\"edge21\" class=\"edge\">\n",
       "<title>ВКЛП&#45;&gt;ОТПР</title>\n",
       "<path fill=\"none\" stroke=\"black\" d=\"M715.55,-249.11C725.37,-239.56 738.95,-228.07 753.18,-221.34 794.08,-202.01 809.31,-213.38 853.18,-202.34 857.37,-201.29 861.72,-200.09 866.03,-198.83\"/>\n",
       "<polygon fill=\"black\" stroke=\"black\" points=\"867.38,-202.08 875.93,-195.82 865.35,-195.38 867.38,-202.08\"/>\n",
       "<text text-anchor=\"middle\" x=\"803.18\" y=\"-225.14\" font-family=\"Times,serif\" font-size=\"14.00\">#21 &#45; 49 minutes</text>\n",
       "</g>\n",
       "<!-- ВКЛП&#45;&gt;ОТПР -->\n",
       "<g id=\"edge26\" class=\"edge\">\n",
       "<title>ВКЛП&#45;&gt;ОТПР</title>\n",
       "<path fill=\"none\" stroke=\"black\" d=\"M706.13,-247.41C713.48,-227.65 728.37,-196.89 753.18,-183.34 787.51,-164.61 833.1,-168.75 865.13,-175.46\"/>\n",
       "<polygon fill=\"black\" stroke=\"black\" points=\"864.5,-178.9 875.03,-177.7 866.05,-172.08 864.5,-178.9\"/>\n",
       "<text text-anchor=\"middle\" x=\"803.18\" y=\"-187.14\" font-family=\"Times,serif\" font-size=\"14.00\">#26 &#45; 199 minutes</text>\n",
       "</g>\n",
       "<!-- ОТПР&#45;&gt;ИСКП -->\n",
       "<g id=\"edge5\" class=\"edge\">\n",
       "<title>ОТПР&#45;&gt;ИСКП</title>\n",
       "<path fill=\"none\" stroke=\"black\" d=\"M878.28,-175.22C870.37,-172.2 861.53,-169.25 853.18,-167.34 786.72,-152.16 768.61,-153.34 700.43,-153.34 358.69,-153.34 358.69,-153.34 358.69,-153.34 238.97,-153.34 203.3,-140.44 90.79,-181.34 81.28,-184.8 71.82,-190.32 63.56,-196\"/>\n",
       "<polygon fill=\"black\" stroke=\"black\" points=\"61.46,-193.2 55.43,-201.91 65.58,-198.86 61.46,-193.2\"/>\n",
       "<text text-anchor=\"middle\" x=\"477.69\" y=\"-157.14\" font-family=\"Times,serif\" font-size=\"14.00\">#5 &#45; 423 minutes</text>\n",
       "</g>\n",
       "<!-- ОТПР&#45;&gt;ИСКП -->\n",
       "<g id=\"edge10\" class=\"edge\">\n",
       "<title>ОТПР&#45;&gt;ИСКП</title>\n",
       "<path fill=\"none\" stroke=\"black\" d=\"M886.11,-171.07C876.78,-163.7 864.89,-155.2 853.18,-149.34 789.66,-117.56 771.46,-102.34 700.43,-102.34 256.24,-102.34 256.24,-102.34 256.24,-102.34 179.8,-102.34 154.27,-106.75 90.79,-149.34 74.79,-160.08 61.41,-177.14 52.05,-191.49\"/>\n",
       "<polygon fill=\"black\" stroke=\"black\" points=\"49.07,-189.66 46.75,-199.99 55.01,-193.36 49.07,-189.66\"/>\n",
       "<text text-anchor=\"middle\" x=\"477.69\" y=\"-106.14\" font-family=\"Times,serif\" font-size=\"14.00\">#10 &#45; 347 minutes</text>\n",
       "</g>\n",
       "<!-- ОТПР&#45;&gt;ИСКП -->\n",
       "<g id=\"edge17\" class=\"edge\">\n",
       "<title>ОТПР&#45;&gt;ИСКП</title>\n",
       "<path fill=\"none\" stroke=\"black\" d=\"M897.61,-168.7C889.9,-149.72 875.14,-119.91 853.18,-102.34 797.29,-57.64 772.01,-51.34 700.43,-51.34 256.24,-51.34 256.24,-51.34 256.24,-51.34 179.68,-51.34 148.65,-49.2 90.79,-99.34 63.79,-122.75 49.74,-162.56 42.96,-189.4\"/>\n",
       "<polygon fill=\"black\" stroke=\"black\" points=\"39.51,-188.79 40.63,-199.33 46.32,-190.39 39.51,-188.79\"/>\n",
       "<text text-anchor=\"middle\" x=\"477.69\" y=\"-55.14\" font-family=\"Times,serif\" font-size=\"14.00\">#17 &#45; 303 minutes</text>\n",
       "</g>\n",
       "<!-- ОТПР&#45;&gt;ИСКП -->\n",
       "<g id=\"edge22\" class=\"edge\">\n",
       "<title>ОТПР&#45;&gt;ИСКП</title>\n",
       "<path fill=\"none\" stroke=\"black\" d=\"M902.19,-168.21C898.37,-139.28 886.82,-82.63 853.18,-50.34 801.64,-0.88 771.87,-0.34 700.43,-0.34 256.24,-0.34 256.24,-0.34 256.24,-0.34 179.68,-0.34 145.57,5.15 90.79,-48.34 52.12,-86.11 41.38,-151.62 38.45,-189.02\"/>\n",
       "<polygon fill=\"black\" stroke=\"black\" points=\"34.94,-189.01 37.79,-199.21 41.93,-189.46 34.94,-189.01\"/>\n",
       "<text text-anchor=\"middle\" x=\"477.69\" y=\"-4.14\" font-family=\"Times,serif\" font-size=\"14.00\">#22 &#45; 506 minutes</text>\n",
       "</g>\n",
       "<!-- ПВГУ&#45;&gt;ИСКП -->\n",
       "<g id=\"edge12\" class=\"edge\">\n",
       "<title>ПВГУ&#45;&gt;ИСКП</title>\n",
       "<path fill=\"none\" stroke=\"black\" d=\"M229.99,-200.25C222.04,-197.42 213.19,-194.77 204.79,-193.34 154.84,-184.86 140.33,-182.72 90.79,-193.34 83.98,-194.8 76.99,-197.2 70.41,-199.93\"/>\n",
       "<polygon fill=\"black\" stroke=\"black\" points=\"68.81,-196.81 61.11,-204.1 71.67,-203.2 68.81,-196.81\"/>\n",
       "<text text-anchor=\"middle\" x=\"147.79\" y=\"-197.14\" font-family=\"Times,serif\" font-size=\"14.00\">#12 &#45; 391 minutes</text>\n",
       "</g>\n",
       "</g>\n",
       "</svg>\n"
      ],
      "text/plain": [
       "<graphviz.dot.Digraph at 0x146cc80a0>"
      ]
     },
     "execution_count": 825,
     "metadata": {},
     "output_type": "execute_result"
    }
   ],
   "source": [
    "# построить граф переходов между операциями по вагону\n",
    "\n",
    "cops = ndf[ndf.car_number == car_num].sort_values(by=['operation_date'])['operation_car'].index\n",
    "DG = Digraph(f'FSM for car #{car_num}', filename='ops_fsm_per_car')\n",
    "DG.attr(rankdir='LR', size='8,5')\n",
    "\n",
    "for i in range(1,len(cops)):\n",
    "    src = car_ops.mnem_code[car_ops.index_code == ndf.operation_car[ndf.index == cops[i-1]].values[0]].values[0]\n",
    "    dst = car_ops.mnem_code[car_ops.index_code == ndf.operation_car[ndf.index == cops[i]].values[0]].values[0]\n",
    "    td = ndf.operation_date[ndf.index == cops[i]].values[0] - ndf.operation_date[ndf.index == cops[i-1]].values[0]\n",
    "    td = str(td.astype('timedelta64[m]'))\n",
    "    DG.edge(src, dst, label=f'#{str(i)} - {td}')\n",
    "\n",
    "\n",
    "DG.view() # выгрузить в pdf\n",
    "DG # отобразить граф в ячейке"
   ]
  },
  {
   "cell_type": "markdown",
   "metadata": {},
   "source": [
    "### Анализ цепочек операций"
   ]
  },
  {
   "cell_type": "markdown",
   "metadata": {},
   "source": [
    "#### Выборка по станции. Словарь с последовательностями операций по вагонам"
   ]
  },
  {
   "cell_type": "code",
   "execution_count": 769,
   "metadata": {},
   "outputs": [],
   "source": [
    "def extract_ops_chains(st_id: int) -> dict:\n",
    "    '''\n",
    "    Собирает цепочки операций по вагонам для заданной станции\n",
    "    '''\n",
    "    cars = {}\n",
    "    for i in tqdm(ndf.car_number[ndf.operation_st_id == st_id].unique()):\n",
    "        cars[i] = str(ndf.operation_car[ndf.operation_st_id == st_id][ndf.car_number == i].values)\n",
    "        cars[i] = cars[i][1:-1].strip().replace('\\n','')\n",
    "    return cars\n",
    "\n",
    "def sort_dict(dct: dict) -> dict:\n",
    "    '''\n",
    "    Сортирует цепочки операций\n",
    "    '''\n",
    "    return dict(sorted(dct.items(), key=lambda item: item[1], reverse=True))"
   ]
  },
  {
   "cell_type": "code",
   "execution_count": 826,
   "metadata": {
    "scrolled": true
   },
   "outputs": [
    {
     "name": "stderr",
     "output_type": "stream",
     "text": [
      "100%|██████████| 9/9 [00:00<00:00, 91.35it/s]\n"
     ]
    },
    {
     "data": {
      "text/plain": [
       "{30849038: '3. 78. 28. 18. 79.  4.  2.',\n",
       " 30853865: '3. 78. 28. 18. 79.  4.  2.',\n",
       " 37695855: '3. 28. 18.  4.  2.  3. 28. 18.  4.  2.',\n",
       " 42161463: '3. 18.  4.  2.  3. 18.  4.  2.',\n",
       " 42161497: '3. 18.  4.  2.  3. 18.  4.  2.',\n",
       " 44458883: '3. 18.  4.  2.  3.  4.  2.',\n",
       " 42159400: '3. 18.  4.  2.  3.',\n",
       " 37691169: '3.',\n",
       " 37691284: '3.'}"
      ]
     },
     "execution_count": 826,
     "metadata": {},
     "output_type": "execute_result"
    }
   ],
   "source": [
    "cars_ops = sort_dict(extract_ops_chains(st_id))\n",
    "cars_ops"
   ]
  },
  {
   "cell_type": "markdown",
   "metadata": {},
   "source": [
    "### Аггрегация вагонов по типовым последовательностям операций"
   ]
  },
  {
   "cell_type": "code",
   "execution_count": 771,
   "metadata": {},
   "outputs": [],
   "source": [
    "def agg_by_car(dct: dict) -> dict:\n",
    "    '''\n",
    "    Аггрегирует номера вагонов по цепочкам операций\n",
    "    '''\n",
    "    res = {}\n",
    "    for i, v in dct.items():\n",
    "        res[v] = [i] if v not in res.keys() else res[v] + [i]\n",
    "    return res"
   ]
  },
  {
   "cell_type": "code",
   "execution_count": 827,
   "metadata": {
    "scrolled": true
   },
   "outputs": [
    {
     "data": {
      "text/plain": [
       "{'3. 78. 28. 18. 79.  4.  2.': [30849038, 30853865],\n",
       " '3. 28. 18.  4.  2.  3. 28. 18.  4.  2.': [37695855],\n",
       " '3. 18.  4.  2.  3. 18.  4.  2.': [42161463, 42161497],\n",
       " '3. 18.  4.  2.  3.  4.  2.': [44458883],\n",
       " '3. 18.  4.  2.  3.': [42159400],\n",
       " '3.': [37691169, 37691284]}"
      ]
     },
     "execution_count": 827,
     "metadata": {},
     "output_type": "execute_result"
    }
   ],
   "source": [
    "agg_by_car(cars_ops)"
   ]
  },
  {
   "cell_type": "code",
   "execution_count": 828,
   "metadata": {
    "scrolled": true
   },
   "outputs": [
    {
     "data": {
      "text/plain": [
       "{'3. 78. 28. 18. 79.  4.  2.': 2,\n",
       " '3. 18.  4.  2.  3. 18.  4.  2.': 2,\n",
       " '3.': 2,\n",
       " '3. 28. 18.  4.  2.  3. 28. 18.  4.  2.': 1,\n",
       " '3. 18.  4.  2.  3.  4.  2.': 1,\n",
       " '3. 18.  4.  2.  3.': 1}"
      ]
     },
     "execution_count": 828,
     "metadata": {},
     "output_type": "execute_result"
    }
   ],
   "source": [
    "# подсчет цепочек операций совпадающих по вагонам\n",
    "ocl = agg_by_car(cars_ops)\n",
    "for key in ocl:\n",
    "    ocl[key] = len(ocl[key])\n",
    "ocl = sort_dict(ocl)\n",
    "ocl"
   ]
  },
  {
   "cell_type": "code",
   "execution_count": 833,
   "metadata": {},
   "outputs": [
    {
     "name": "stdout",
     "output_type": "stream",
     "text": [
      "Самая повторяющаяся цепочка операций на станции 2000039118:\n",
      "[3.0, 78.0, 28.0, 18.0, 79.0, 4.0, 2.0]\n"
     ]
    }
   ],
   "source": [
    "# цепочка операций для вагона car_num\n",
    "# ops = list(ndf.operation_car[ndf.car_number == car_num].values)\n",
    "\n",
    "ops = list(ocl.keys())[0]\n",
    "ops = list(map(float, ops.split()))\n",
    "print(f'Самая повторяющаяся цепочка операций на станции {st_id}:\\n{ops}')"
   ]
  },
  {
   "cell_type": "code",
   "execution_count": 834,
   "metadata": {
    "scrolled": true
   },
   "outputs": [
    {
     "name": "stdout",
     "output_type": "stream",
     "text": [
      "[3 'ИСКП' 'ИСКЛЮЧЕНИE ВАГОНА ИЗ ПОЕЗДА           ']\n",
      "[78 'ПВГУ' ' ПРОЧИЕ ПОДАЧИ ВАГОНА ГУ-45М          ']\n",
      "[28 'ВЫГ0' 'ВЫГРУЗКА БЕЗ ЗАЧЕТА В ВЫГРУЗКУ        ']\n",
      "[18 'ПГР0' 'ПОГРУЗКА БЕЗ ЗАЧЕТА В ПОГРУЗКУ        ']\n",
      "[79 'УВГУ' ' ПРОЧИЕ УБОРКИ ВАГОНА ГУ-45М          ']\n",
      "[4 'ВКЛП' 'ВКЛЮЧЕНИE ВАГОНА В ПОЕЗД              ']\n",
      "[2 'ОТПР' 'ОТПРАВЛЕНИЕ ВАГОНА СО СТАНЦИИ         ']\n"
     ]
    }
   ],
   "source": [
    "# описание цепочки операций ops\n",
    "for i in ops:\n",
    "    print(car_ops[car_ops.index_code == i].values[0])"
   ]
  },
  {
   "cell_type": "markdown",
   "metadata": {},
   "source": [
    "## Черновик:"
   ]
  },
  {
   "cell_type": "markdown",
   "metadata": {},
   "source": [
    "### Профайлер"
   ]
  },
  {
   "cell_type": "code",
   "execution_count": null,
   "metadata": {
    "scrolled": true
   },
   "outputs": [],
   "source": [
    "## profiler code\n",
    "# dt = datetime.datetime.now().strftime(\"%m/%d/%y - %H:%M\")\n",
    "# profile = ProfileReport(ndf, title=dt, explorative=True)\n",
    "# fname = 'pd-report.html'\n",
    "# profile.to_file(output_file=fname)"
   ]
  }
 ],
 "metadata": {
  "kernelspec": {
   "display_name": "Python 3",
   "language": "python",
   "name": "python3"
  },
  "language_info": {
   "codemirror_mode": {
    "name": "ipython",
    "version": 3
   },
   "file_extension": ".py",
   "mimetype": "text/x-python",
   "name": "python",
   "nbconvert_exporter": "python",
   "pygments_lexer": "ipython3",
   "version": "3.9.0"
  }
 },
 "nbformat": 4,
 "nbformat_minor": 4
}
